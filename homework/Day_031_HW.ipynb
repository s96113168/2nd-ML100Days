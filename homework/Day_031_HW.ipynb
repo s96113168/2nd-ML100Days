{
 "cells": [
  {
   "cell_type": "markdown",
   "metadata": {},
   "source": [
    "## 練習時間"
   ]
  },
  {
   "cell_type": "markdown",
   "metadata": {},
   "source": [
    "請觀看台大電機李宏毅教授的影片。李教授會用非常淺顯易懂的方式介紹甚麼是機器學習。\n"
   ]
  },
  {
   "cell_type": "markdown",
   "metadata": {},
   "source": [
    "[youtube](https://www.youtube.com/watch?v=CXgbekl66jc)"
   ]
  },
  {
   "cell_type": "markdown",
   "metadata": {},
   "source": [
    "## 請找出一個你認為機器學習可以發光發熱的領域並闡述原因? \n",
    "\n",
    "我認為醫療領域可以使用機器學習並很好的運用這個技術，當累積夠多的專業知識後\n",
    "，患者可以利用醫療AI平台解決一些較不緊急的病症已減輕醫療人員的工作負擔，並快速解決症狀，\n",
    "或是一些醫療知識可以利用醫療AI平台普及等等。"
   ]
  },
  {
   "cell_type": "code",
   "execution_count": null,
   "metadata": {},
   "outputs": [],
   "source": []
  }
 ],
 "metadata": {
  "kernelspec": {
   "display_name": "Python 3",
   "language": "python",
   "name": "python3"
  },
  "language_info": {
   "codemirror_mode": {
    "name": "ipython",
    "version": 3
   },
   "file_extension": ".py",
   "mimetype": "text/x-python",
   "name": "python",
   "nbconvert_exporter": "python",
   "pygments_lexer": "ipython3",
   "version": "3.7.3"
  }
 },
 "nbformat": 4,
 "nbformat_minor": 2
}
